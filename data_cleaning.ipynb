{
 "cells": [
  {
   "cell_type": "code",
   "execution_count": 76,
   "id": "d51a8b4b-359e-41ad-8be7-8e7f799b0672",
   "metadata": {},
   "outputs": [
    {
     "data": {
      "text/html": [
       "<div>\n",
       "<style scoped>\n",
       "    .dataframe tbody tr th:only-of-type {\n",
       "        vertical-align: middle;\n",
       "    }\n",
       "\n",
       "    .dataframe tbody tr th {\n",
       "        vertical-align: top;\n",
       "    }\n",
       "\n",
       "    .dataframe thead th {\n",
       "        text-align: right;\n",
       "    }\n",
       "</style>\n",
       "<table border=\"1\" class=\"dataframe\">\n",
       "  <thead>\n",
       "    <tr style=\"text-align: right;\">\n",
       "      <th></th>\n",
       "      <th>search_name</th>\n",
       "      <th>artist_id</th>\n",
       "      <th>artist_name</th>\n",
       "      <th>album_api_path</th>\n",
       "      <th>album_cover_art_url</th>\n",
       "      <th>album_full_title</th>\n",
       "      <th>album_id</th>\n",
       "      <th>album_name</th>\n",
       "      <th>album_release_date_for_display</th>\n",
       "      <th>album_url</th>\n",
       "      <th>...</th>\n",
       "      <th>song_header_image_url</th>\n",
       "      <th>song_lyrics_owner_id</th>\n",
       "      <th>song_lyrics_state</th>\n",
       "      <th>song_path</th>\n",
       "      <th>song_pyongs_count</th>\n",
       "      <th>song_song_art_image_thumbnail_url</th>\n",
       "      <th>song_song_art_image_url</th>\n",
       "      <th>song_title_with_featured</th>\n",
       "      <th>song_url</th>\n",
       "      <th>lyrics</th>\n",
       "    </tr>\n",
       "  </thead>\n",
       "  <tbody>\n",
       "    <tr>\n",
       "      <th>0</th>\n",
       "      <td>Nirvana</td>\n",
       "      <td>12712</td>\n",
       "      <td>Nirvana</td>\n",
       "      <td>/albums/1079654</td>\n",
       "      <td>https://images.genius.com/c4caf31fa93919e10a53...</td>\n",
       "      <td>In Utero (30th Anniversary Edition) by Nirvana</td>\n",
       "      <td>1079654</td>\n",
       "      <td>In Utero (30th Anniversary Edition)</td>\n",
       "      <td>October 27, 2023</td>\n",
       "      <td>https://genius.com/albums/Nirvana/In-utero-30t...</td>\n",
       "      <td>...</td>\n",
       "      <td>https://images.genius.com/c4caf31fa93919e10a53...</td>\n",
       "      <td>20843533</td>\n",
       "      <td>complete</td>\n",
       "      <td>/Nirvana-serve-the-servants-2023-remaster-lyrics</td>\n",
       "      <td>NaN</td>\n",
       "      <td>https://images.genius.com/c4caf31fa93919e10a53...</td>\n",
       "      <td>https://images.genius.com/c4caf31fa93919e10a53...</td>\n",
       "      <td>Serve The Servants (2023 Remaster)</td>\n",
       "      <td>https://genius.com/Nirvana-serve-the-servants-...</td>\n",
       "      <td>2 ContributorsServe The Servants (2023 Remaste...</td>\n",
       "    </tr>\n",
       "    <tr>\n",
       "      <th>1</th>\n",
       "      <td>Nirvana</td>\n",
       "      <td>12712</td>\n",
       "      <td>Nirvana</td>\n",
       "      <td>/albums/1079654</td>\n",
       "      <td>https://images.genius.com/c4caf31fa93919e10a53...</td>\n",
       "      <td>In Utero (30th Anniversary Edition) by Nirvana</td>\n",
       "      <td>1079654</td>\n",
       "      <td>In Utero (30th Anniversary Edition)</td>\n",
       "      <td>October 27, 2023</td>\n",
       "      <td>https://genius.com/albums/Nirvana/In-utero-30t...</td>\n",
       "      <td>...</td>\n",
       "      <td>https://images.genius.com/c4caf31fa93919e10a53...</td>\n",
       "      <td>20843533</td>\n",
       "      <td>complete</td>\n",
       "      <td>/Nirvana-scentless-apprentice-2023-remaster-ly...</td>\n",
       "      <td>NaN</td>\n",
       "      <td>https://images.genius.com/c4caf31fa93919e10a53...</td>\n",
       "      <td>https://images.genius.com/c4caf31fa93919e10a53...</td>\n",
       "      <td>Scentless Apprentice (2023 Remaster)</td>\n",
       "      <td>https://genius.com/Nirvana-scentless-apprentic...</td>\n",
       "      <td>2 ContributorsScentless Apprentice (2023 Remas...</td>\n",
       "    </tr>\n",
       "    <tr>\n",
       "      <th>2</th>\n",
       "      <td>Nirvana</td>\n",
       "      <td>12712</td>\n",
       "      <td>Nirvana</td>\n",
       "      <td>/albums/1079654</td>\n",
       "      <td>https://images.genius.com/c4caf31fa93919e10a53...</td>\n",
       "      <td>In Utero (30th Anniversary Edition) by Nirvana</td>\n",
       "      <td>1079654</td>\n",
       "      <td>In Utero (30th Anniversary Edition)</td>\n",
       "      <td>October 27, 2023</td>\n",
       "      <td>https://genius.com/albums/Nirvana/In-utero-30t...</td>\n",
       "      <td>...</td>\n",
       "      <td>https://images.genius.com/c4caf31fa93919e10a53...</td>\n",
       "      <td>20843533</td>\n",
       "      <td>complete</td>\n",
       "      <td>/Nirvana-heart-shaped-box-2023-remaster-lyrics</td>\n",
       "      <td>NaN</td>\n",
       "      <td>https://images.genius.com/c4caf31fa93919e10a53...</td>\n",
       "      <td>https://images.genius.com/c4caf31fa93919e10a53...</td>\n",
       "      <td>Heart-Shaped Box (2023 Remaster)</td>\n",
       "      <td>https://genius.com/Nirvana-heart-shaped-box-20...</td>\n",
       "      <td>2 ContributorsHeart-Shaped Box (2023 Remaster)...</td>\n",
       "    </tr>\n",
       "    <tr>\n",
       "      <th>3</th>\n",
       "      <td>Nirvana</td>\n",
       "      <td>12712</td>\n",
       "      <td>Nirvana</td>\n",
       "      <td>/albums/1079654</td>\n",
       "      <td>https://images.genius.com/c4caf31fa93919e10a53...</td>\n",
       "      <td>In Utero (30th Anniversary Edition) by Nirvana</td>\n",
       "      <td>1079654</td>\n",
       "      <td>In Utero (30th Anniversary Edition)</td>\n",
       "      <td>October 27, 2023</td>\n",
       "      <td>https://genius.com/albums/Nirvana/In-utero-30t...</td>\n",
       "      <td>...</td>\n",
       "      <td>https://images.genius.com/c4caf31fa93919e10a53...</td>\n",
       "      <td>13438383</td>\n",
       "      <td>complete</td>\n",
       "      <td>/Nirvana-rape-me-2023-remaster-lyrics</td>\n",
       "      <td>NaN</td>\n",
       "      <td>https://images.genius.com/c4caf31fa93919e10a53...</td>\n",
       "      <td>https://images.genius.com/c4caf31fa93919e10a53...</td>\n",
       "      <td>Rape Me (2023 Remaster)</td>\n",
       "      <td>https://genius.com/Nirvana-rape-me-2023-remast...</td>\n",
       "      <td>2 ContributorsRape Me (2023 Remaster) Lyrics[V...</td>\n",
       "    </tr>\n",
       "    <tr>\n",
       "      <th>4</th>\n",
       "      <td>Nirvana</td>\n",
       "      <td>12712</td>\n",
       "      <td>Nirvana</td>\n",
       "      <td>/albums/1079654</td>\n",
       "      <td>https://images.genius.com/c4caf31fa93919e10a53...</td>\n",
       "      <td>In Utero (30th Anniversary Edition) by Nirvana</td>\n",
       "      <td>1079654</td>\n",
       "      <td>In Utero (30th Anniversary Edition)</td>\n",
       "      <td>October 27, 2023</td>\n",
       "      <td>https://genius.com/albums/Nirvana/In-utero-30t...</td>\n",
       "      <td>...</td>\n",
       "      <td>https://images.genius.com/c4caf31fa93919e10a53...</td>\n",
       "      <td>13438383</td>\n",
       "      <td>complete</td>\n",
       "      <td>/Nirvana-frances-farmer-will-have-her-revenge-...</td>\n",
       "      <td>NaN</td>\n",
       "      <td>https://images.genius.com/c4caf31fa93919e10a53...</td>\n",
       "      <td>https://images.genius.com/c4caf31fa93919e10a53...</td>\n",
       "      <td>Frances Farmer Will Have Her Revenge On Seattl...</td>\n",
       "      <td>https://genius.com/Nirvana-frances-farmer-will...</td>\n",
       "      <td>2 ContributorsFrances Farmer Will Have Her Rev...</td>\n",
       "    </tr>\n",
       "  </tbody>\n",
       "</table>\n",
       "<p>5 rows × 27 columns</p>\n",
       "</div>"
      ],
      "text/plain": [
       "  search_name  artist_id artist_name   album_api_path  \\\n",
       "0     Nirvana      12712     Nirvana  /albums/1079654   \n",
       "1     Nirvana      12712     Nirvana  /albums/1079654   \n",
       "2     Nirvana      12712     Nirvana  /albums/1079654   \n",
       "3     Nirvana      12712     Nirvana  /albums/1079654   \n",
       "4     Nirvana      12712     Nirvana  /albums/1079654   \n",
       "\n",
       "                                 album_cover_art_url  \\\n",
       "0  https://images.genius.com/c4caf31fa93919e10a53...   \n",
       "1  https://images.genius.com/c4caf31fa93919e10a53...   \n",
       "2  https://images.genius.com/c4caf31fa93919e10a53...   \n",
       "3  https://images.genius.com/c4caf31fa93919e10a53...   \n",
       "4  https://images.genius.com/c4caf31fa93919e10a53...   \n",
       "\n",
       "                                 album_full_title  album_id  \\\n",
       "0  In Utero (30th Anniversary Edition) by Nirvana   1079654   \n",
       "1  In Utero (30th Anniversary Edition) by Nirvana   1079654   \n",
       "2  In Utero (30th Anniversary Edition) by Nirvana   1079654   \n",
       "3  In Utero (30th Anniversary Edition) by Nirvana   1079654   \n",
       "4  In Utero (30th Anniversary Edition) by Nirvana   1079654   \n",
       "\n",
       "                            album_name album_release_date_for_display  \\\n",
       "0  In Utero (30th Anniversary Edition)               October 27, 2023   \n",
       "1  In Utero (30th Anniversary Edition)               October 27, 2023   \n",
       "2  In Utero (30th Anniversary Edition)               October 27, 2023   \n",
       "3  In Utero (30th Anniversary Edition)               October 27, 2023   \n",
       "4  In Utero (30th Anniversary Edition)               October 27, 2023   \n",
       "\n",
       "                                           album_url  ...  \\\n",
       "0  https://genius.com/albums/Nirvana/In-utero-30t...  ...   \n",
       "1  https://genius.com/albums/Nirvana/In-utero-30t...  ...   \n",
       "2  https://genius.com/albums/Nirvana/In-utero-30t...  ...   \n",
       "3  https://genius.com/albums/Nirvana/In-utero-30t...  ...   \n",
       "4  https://genius.com/albums/Nirvana/In-utero-30t...  ...   \n",
       "\n",
       "                               song_header_image_url song_lyrics_owner_id  \\\n",
       "0  https://images.genius.com/c4caf31fa93919e10a53...             20843533   \n",
       "1  https://images.genius.com/c4caf31fa93919e10a53...             20843533   \n",
       "2  https://images.genius.com/c4caf31fa93919e10a53...             20843533   \n",
       "3  https://images.genius.com/c4caf31fa93919e10a53...             13438383   \n",
       "4  https://images.genius.com/c4caf31fa93919e10a53...             13438383   \n",
       "\n",
       "  song_lyrics_state                                          song_path  \\\n",
       "0          complete   /Nirvana-serve-the-servants-2023-remaster-lyrics   \n",
       "1          complete  /Nirvana-scentless-apprentice-2023-remaster-ly...   \n",
       "2          complete     /Nirvana-heart-shaped-box-2023-remaster-lyrics   \n",
       "3          complete              /Nirvana-rape-me-2023-remaster-lyrics   \n",
       "4          complete  /Nirvana-frances-farmer-will-have-her-revenge-...   \n",
       "\n",
       "  song_pyongs_count                  song_song_art_image_thumbnail_url  \\\n",
       "0               NaN  https://images.genius.com/c4caf31fa93919e10a53...   \n",
       "1               NaN  https://images.genius.com/c4caf31fa93919e10a53...   \n",
       "2               NaN  https://images.genius.com/c4caf31fa93919e10a53...   \n",
       "3               NaN  https://images.genius.com/c4caf31fa93919e10a53...   \n",
       "4               NaN  https://images.genius.com/c4caf31fa93919e10a53...   \n",
       "\n",
       "                             song_song_art_image_url  \\\n",
       "0  https://images.genius.com/c4caf31fa93919e10a53...   \n",
       "1  https://images.genius.com/c4caf31fa93919e10a53...   \n",
       "2  https://images.genius.com/c4caf31fa93919e10a53...   \n",
       "3  https://images.genius.com/c4caf31fa93919e10a53...   \n",
       "4  https://images.genius.com/c4caf31fa93919e10a53...   \n",
       "\n",
       "                            song_title_with_featured  \\\n",
       "0                 Serve The Servants (2023 Remaster)   \n",
       "1               Scentless Apprentice (2023 Remaster)   \n",
       "2                   Heart-Shaped Box (2023 Remaster)   \n",
       "3                            Rape Me (2023 Remaster)   \n",
       "4  Frances Farmer Will Have Her Revenge On Seattl...   \n",
       "\n",
       "                                            song_url  \\\n",
       "0  https://genius.com/Nirvana-serve-the-servants-...   \n",
       "1  https://genius.com/Nirvana-scentless-apprentic...   \n",
       "2  https://genius.com/Nirvana-heart-shaped-box-20...   \n",
       "3  https://genius.com/Nirvana-rape-me-2023-remast...   \n",
       "4  https://genius.com/Nirvana-frances-farmer-will...   \n",
       "\n",
       "                                              lyrics  \n",
       "0  2 ContributorsServe The Servants (2023 Remaste...  \n",
       "1  2 ContributorsScentless Apprentice (2023 Remas...  \n",
       "2  2 ContributorsHeart-Shaped Box (2023 Remaster)...  \n",
       "3  2 ContributorsRape Me (2023 Remaster) Lyrics[V...  \n",
       "4  2 ContributorsFrances Farmer Will Have Her Rev...  \n",
       "\n",
       "[5 rows x 27 columns]"
      ]
     },
     "execution_count": 76,
     "metadata": {},
     "output_type": "execute_result"
    }
   ],
   "source": [
    "# Data Cleaning\n",
    "\n",
    "import pandas as pd\n",
    "import numpy as np\n",
    "\n",
    "df = pd.read_csv('./data/Nirvana.csv')\n",
    "\n",
    "df.head()"
   ]
  },
  {
   "cell_type": "code",
   "execution_count": 77,
   "id": "59effcfc-3d62-4617-adc9-65c9c5e78608",
   "metadata": {},
   "outputs": [
    {
     "name": "stdout",
     "output_type": "stream",
     "text": [
      "<class 'pandas.core.frame.DataFrame'>\n",
      "RangeIndex: 594 entries, 0 to 593\n",
      "Data columns (total 27 columns):\n",
      " #   Column                             Non-Null Count  Dtype  \n",
      "---  ------                             --------------  -----  \n",
      " 0   search_name                        594 non-null    object \n",
      " 1   artist_id                          594 non-null    int64  \n",
      " 2   artist_name                        594 non-null    object \n",
      " 3   album_api_path                     594 non-null    object \n",
      " 4   album_cover_art_url                594 non-null    object \n",
      " 5   album_full_title                   594 non-null    object \n",
      " 6   album_id                           594 non-null    int64  \n",
      " 7   album_name                         594 non-null    object \n",
      " 8   album_release_date_for_display     594 non-null    object \n",
      " 9   album_url                          594 non-null    object \n",
      " 10  song_id                            594 non-null    int64  \n",
      " 11  song_artist_names                  594 non-null    object \n",
      " 12  song_title                         594 non-null    object \n",
      " 13  song_annotation_count              594 non-null    int64  \n",
      " 14  song_api_path                      594 non-null    object \n",
      " 15  song_full_title                    594 non-null    object \n",
      " 16  song_header_image_thumbnail_url    594 non-null    object \n",
      " 17  song_header_image_url              594 non-null    object \n",
      " 18  song_lyrics_owner_id               594 non-null    int64  \n",
      " 19  song_lyrics_state                  594 non-null    object \n",
      " 20  song_path                          594 non-null    object \n",
      " 21  song_pyongs_count                  215 non-null    float64\n",
      " 22  song_song_art_image_thumbnail_url  594 non-null    object \n",
      " 23  song_song_art_image_url            594 non-null    object \n",
      " 24  song_title_with_featured           594 non-null    object \n",
      " 25  song_url                           594 non-null    object \n",
      " 26  lyrics                             568 non-null    object \n",
      "dtypes: float64(1), int64(5), object(21)\n",
      "memory usage: 125.4+ KB\n"
     ]
    }
   ],
   "source": [
    "df.info()"
   ]
  },
  {
   "cell_type": "code",
   "execution_count": 78,
   "id": "b4005e59-df3b-4867-a54f-0322c0be0d17",
   "metadata": {},
   "outputs": [
    {
     "data": {
      "text/plain": [
       "Index(['search_name', 'artist_id', 'artist_name', 'album_api_path',\n",
       "       'album_cover_art_url', 'album_full_title', 'album_id', 'album_name',\n",
       "       'album_release_date_for_display', 'album_url', 'song_id',\n",
       "       'song_artist_names', 'song_title', 'song_annotation_count',\n",
       "       'song_api_path', 'song_full_title', 'song_header_image_thumbnail_url',\n",
       "       'song_header_image_url', 'song_lyrics_owner_id', 'song_lyrics_state',\n",
       "       'song_path', 'song_pyongs_count', 'song_song_art_image_thumbnail_url',\n",
       "       'song_song_art_image_url', 'song_title_with_featured', 'song_url',\n",
       "       'lyrics'],\n",
       "      dtype='object')"
      ]
     },
     "execution_count": 78,
     "metadata": {},
     "output_type": "execute_result"
    }
   ],
   "source": [
    "df.columns"
   ]
  },
  {
   "cell_type": "code",
   "execution_count": 79,
   "id": "436bd156-1ecb-4f55-a108-6b36082426fd",
   "metadata": {},
   "outputs": [
    {
     "data": {
      "text/html": [
       "<div>\n",
       "<style scoped>\n",
       "    .dataframe tbody tr th:only-of-type {\n",
       "        vertical-align: middle;\n",
       "    }\n",
       "\n",
       "    .dataframe tbody tr th {\n",
       "        vertical-align: top;\n",
       "    }\n",
       "\n",
       "    .dataframe thead th {\n",
       "        text-align: right;\n",
       "    }\n",
       "</style>\n",
       "<table border=\"1\" class=\"dataframe\">\n",
       "  <thead>\n",
       "    <tr style=\"text-align: right;\">\n",
       "      <th></th>\n",
       "      <th>artist_id</th>\n",
       "      <th>artist_name</th>\n",
       "      <th>song_title</th>\n",
       "      <th>lyrics</th>\n",
       "    </tr>\n",
       "  </thead>\n",
       "  <tbody>\n",
       "    <tr>\n",
       "      <th>0</th>\n",
       "      <td>12712</td>\n",
       "      <td>Nirvana</td>\n",
       "      <td>Serve The Servants (2023 Remaster)</td>\n",
       "      <td>2 ContributorsServe The Servants (2023 Remaste...</td>\n",
       "    </tr>\n",
       "    <tr>\n",
       "      <th>1</th>\n",
       "      <td>12712</td>\n",
       "      <td>Nirvana</td>\n",
       "      <td>Scentless Apprentice (2023 Remaster)</td>\n",
       "      <td>2 ContributorsScentless Apprentice (2023 Remas...</td>\n",
       "    </tr>\n",
       "    <tr>\n",
       "      <th>2</th>\n",
       "      <td>12712</td>\n",
       "      <td>Nirvana</td>\n",
       "      <td>Heart-Shaped Box (2023 Remaster)</td>\n",
       "      <td>2 ContributorsHeart-Shaped Box (2023 Remaster)...</td>\n",
       "    </tr>\n",
       "    <tr>\n",
       "      <th>3</th>\n",
       "      <td>12712</td>\n",
       "      <td>Nirvana</td>\n",
       "      <td>Rape Me (2023 Remaster)</td>\n",
       "      <td>2 ContributorsRape Me (2023 Remaster) Lyrics[V...</td>\n",
       "    </tr>\n",
       "    <tr>\n",
       "      <th>4</th>\n",
       "      <td>12712</td>\n",
       "      <td>Nirvana</td>\n",
       "      <td>Frances Farmer Will Have Her Revenge On Seattl...</td>\n",
       "      <td>2 ContributorsFrances Farmer Will Have Her Rev...</td>\n",
       "    </tr>\n",
       "  </tbody>\n",
       "</table>\n",
       "</div>"
      ],
      "text/plain": [
       "   artist_id artist_name                                         song_title  \\\n",
       "0      12712     Nirvana                 Serve The Servants (2023 Remaster)   \n",
       "1      12712     Nirvana               Scentless Apprentice (2023 Remaster)   \n",
       "2      12712     Nirvana                   Heart-Shaped Box (2023 Remaster)   \n",
       "3      12712     Nirvana                            Rape Me (2023 Remaster)   \n",
       "4      12712     Nirvana  Frances Farmer Will Have Her Revenge On Seattl...   \n",
       "\n",
       "                                              lyrics  \n",
       "0  2 ContributorsServe The Servants (2023 Remaste...  \n",
       "1  2 ContributorsScentless Apprentice (2023 Remas...  \n",
       "2  2 ContributorsHeart-Shaped Box (2023 Remaster)...  \n",
       "3  2 ContributorsRape Me (2023 Remaster) Lyrics[V...  \n",
       "4  2 ContributorsFrances Farmer Will Have Her Rev...  "
      ]
     },
     "execution_count": 79,
     "metadata": {},
     "output_type": "execute_result"
    }
   ],
   "source": [
    "data = df[['artist_id', 'artist_name', 'song_title', 'lyrics']]\n",
    "\n",
    "data.head()"
   ]
  },
  {
   "cell_type": "code",
   "execution_count": 80,
   "id": "38c8bab3-a438-49b8-b86c-dfa6b0a242db",
   "metadata": {},
   "outputs": [
    {
     "data": {
      "text/plain": [
       "(594, 4)"
      ]
     },
     "execution_count": 80,
     "metadata": {},
     "output_type": "execute_result"
    }
   ],
   "source": [
    "data.shape"
   ]
  },
  {
   "cell_type": "code",
   "execution_count": 81,
   "id": "02e4f3b5-2785-4fcf-ae13-cffa6a02cfe5",
   "metadata": {},
   "outputs": [
    {
     "name": "stdout",
     "output_type": "stream",
     "text": [
      "<class 'pandas.core.frame.DataFrame'>\n",
      "RangeIndex: 594 entries, 0 to 593\n",
      "Data columns (total 4 columns):\n",
      " #   Column       Non-Null Count  Dtype \n",
      "---  ------       --------------  ----- \n",
      " 0   artist_id    594 non-null    int64 \n",
      " 1   artist_name  594 non-null    object\n",
      " 2   song_title   594 non-null    object\n",
      " 3   lyrics       568 non-null    object\n",
      "dtypes: int64(1), object(3)\n",
      "memory usage: 18.7+ KB\n"
     ]
    }
   ],
   "source": [
    "data.info()"
   ]
  },
  {
   "cell_type": "code",
   "execution_count": 82,
   "id": "86b18b5d-5241-4e64-82ce-43b186d8a62f",
   "metadata": {},
   "outputs": [
    {
     "data": {
      "text/plain": [
       "artist_id        1\n",
       "artist_name      1\n",
       "song_title     410\n",
       "lyrics         382\n",
       "dtype: int64"
      ]
     },
     "execution_count": 82,
     "metadata": {},
     "output_type": "execute_result"
    }
   ],
   "source": [
    "data.nunique()"
   ]
  },
  {
   "cell_type": "code",
   "execution_count": 83,
   "id": "ec134c5f-af09-4931-82a5-986446972209",
   "metadata": {},
   "outputs": [
    {
     "data": {
      "text/plain": [
       "(312, 4)"
      ]
     },
     "execution_count": 83,
     "metadata": {},
     "output_type": "execute_result"
    }
   ],
   "source": [
    "# Find similar titles & remove non originals\n",
    "\n",
    "pattern = r\"\\(.*\\)$\"  # This pattern matches anything within parentheses at the end of the string\n",
    "\n",
    "# Filter rows where the column string matches the pattern\n",
    "data = data[~data['song_title'].str.contains(pattern, regex=True)]\n",
    "\n",
    "data.shape"
   ]
  },
  {
   "cell_type": "code",
   "execution_count": 84,
   "id": "52726762-8410-4cb5-92d0-41b551a4e47a",
   "metadata": {},
   "outputs": [],
   "source": [
    "# Remove duplicate lyrics\n",
    "data_clean = data.drop_duplicates(subset=['lyrics'])"
   ]
  },
  {
   "cell_type": "code",
   "execution_count": 85,
   "id": "fdd896a6-7d0d-4343-abc0-fb4a4503fd6f",
   "metadata": {},
   "outputs": [
    {
     "data": {
      "text/plain": [
       "(163, 4)"
      ]
     },
     "execution_count": 85,
     "metadata": {},
     "output_type": "execute_result"
    }
   ],
   "source": [
    "data_clean.shape"
   ]
  },
  {
   "cell_type": "code",
   "execution_count": 86,
   "id": "b7cde7ca-f1bf-4325-a102-9eba4408ffe0",
   "metadata": {},
   "outputs": [
    {
     "data": {
      "text/plain": [
       "artist_id        1\n",
       "artist_name      1\n",
       "song_title     163\n",
       "lyrics         162\n",
       "dtype: int64"
      ]
     },
     "execution_count": 86,
     "metadata": {},
     "output_type": "execute_result"
    }
   ],
   "source": [
    "data_clean.nunique()"
   ]
  },
  {
   "cell_type": "code",
   "execution_count": 62,
   "id": "dbdae18d-fa20-4b1c-b7cc-37cff82e745e",
   "metadata": {},
   "outputs": [
    {
     "data": {
      "text/plain": [
       "(2, 4)"
      ]
     },
     "execution_count": 62,
     "metadata": {},
     "output_type": "execute_result"
    }
   ],
   "source": [
    "data_clean.shape"
   ]
  },
  {
   "cell_type": "code",
   "execution_count": 39,
   "id": "53078980-9b18-4c42-8d05-1b16bdc442e7",
   "metadata": {},
   "outputs": [],
   "source": [
    "data_clean.to_csv('./data/mjtest.csv',index=False)"
   ]
  },
  {
   "cell_type": "code",
   "execution_count": 8,
   "id": "54a1b264-64fa-47bb-8a23-42ca98c2e677",
   "metadata": {
    "scrolled": true
   },
   "outputs": [
    {
     "name": "stdout",
     "output_type": "stream",
     "text": [
      "\"1 ContributorRunning Game Lyrics[Verse 1]\\nWell, I've been looking for you all morning\\nI ain't heard a word from you yet\\nI've been looking for you all morning\\nYou've been writing bad checks [x2]\\nAnd I've been looking for you all morning\\nYou ain't ever picked up your phone\\nI've been looking for you all morning\\nYou've been leaving me alone [x3]\\n\\n[Chorus 1]\\nYou know the reason I'm calling you\\nYou've got to explain your rules\\n'cause people, they've been talking\\nSaying you've been running game on me, too\\n\\n[Verse 2]\\nAnd I've been looking for you all morning\\nI just need a bit of your time\\nI've been looking for you all morning\\nI've been left behind\\nAnd I've been left behind\\nAnd I've been trying to call you all morning\\nI don't know what else to do\\nI've been trying to call you all morning\\nBut I ain't getting through [x2]\\nSee Allen Stone LiveGet tickets as low as $54You might also like[Chorus 2]\\n'cause you know the reason I'm calling you\\nYou've got to explain your rules\\n'cause people, they've been talking\\nSaying you've been running game on me\\n\\n[Bridge - x2]\\nYou've been running the game\\nFar too long\\nAnd I've been so ashamed\\nI can't go on\\n\\n[Chorus 2]\\n\\n[Chorus 1]Embed\"\n",
      "\n",
      "\n",
      "'2 Contributors5 Minutes Lyrics[Intro]\\nIt’s worth it every time\\nMake sure to set aside\\nA space inside your mind\\nSit back, enjoy the ride\\n\\n[Verse 1]\\nDon’t it seem funny?\\nWe work to make money\\nThen sacrifice\\nOur daily lives (ain’t it funny oh, oh, oh)\\nBecause all we remember\\nNo dollar could measure\\nWho takes the prize\\nWhen losing sight (losing sight, yeah)\\n\\n[Pre-Chorus]\\nEverybody’s rushing by\\nNobody’s enjoying life\\nRide around with the windows low\\nMusic loud on my stereo\\nEven though the minutes roll\\nMoments never look how they sound\\nHow they sound\\n\\n[Chorus]\\nIf we could just wait five minutes\\nTake time to make it slower (it slower), it slower (it slower)\\nI want to just give it five minutes\\nDon’t want this feeling to be over (be over)\\nBe over (be over)\\nSee Allen Stone LiveGet tickets as low as $54You might also like[Verse 2]\\nSlow the meter down (hey, hey)\\nYou won’t find your worth inside your bank account\\nBy the way (no way)\\nYou don’t go to stress about (ah, yeah)\\nMaking small deposits if the check will bounce (that’s right)\\nOh, maybe yeah (yeah)\\nWe should take a breather before we lose it (lose it)\\nDon’t forget the reasons\\n\\n[Pre-Chorus]\\nEverybody’s rushing by\\nNobody’s enjoying life\\nRide around with the windows low\\nMusic loud on my stereo\\nEven though the minutes roll\\nMoments never look how they sound\\nHow they sound\\n\\n[Chorus]\\nIf we could just wait five minutes (wait five)\\nTake time to make it slower (it slower) (Wait five, wait five)\\nIt slower (it slower) (take it slower)\\nI want to just give it five minutes\\nDon’t want this feeling to be over (be over) (give it five, give it five yeah)\\nBe over (be over) (oh I)\\n[Refrain]\\nIt’s worth it every time (aye)\\nMake sure to set aside\\nA space inside your mind (give it a space)\\nSit back, enjoy the ride (sit back enjoy the ride)\\n\\n[Chorus]\\nI want to just give it 5 minutes\\nDon’t want this feeling to be over (no, no, no, no)\\nBe over (Do-do-do-do-do, yeah)\\n\\n[Outro]\\nCan we just wait five minutes?\\nCan we just wait five minutes?\\nCan we just wait five minutes?\\nCan we just wait five minutes?Embed'\n",
      "\n",
      "\n",
      "\"1 ContributorFalse Alarms Lyrics[Verse 1]\\nWell, I could stop the rain\\nThe rain from falling\\nIf you could stop this pain\\nThis pain that you've been causing\\n\\n[Pre-Chorus 1]\\nWell, I've been lonely for so long\\nI've been waiting for you to come back home\\n\\n[Chorus 1]\\n'cause you, you and all your false alarms\\nYou've been breaking every inch of my heart\\nNo, I never meant to cause you any harm\\nIt's you and all your false alarms\\nYou and all your false alarms [x2]\\n\\n[Verse 2]\\nAnd I could love you more\\nHey, more than you've ever known\\nIf you could love me full, yeah\\nHey, more than just off and on\\n\\n[Pre-Chorus 2]\\n'cause I've been lonely for so long\\nAnd I've been waiting for, for you to come back home\\nSee Allen Stone LiveGet tickets as low as $54You might also like[Chorus 2]\\n'cause you, you and all your false alarms\\nYou've been breaking every inch of my heart\\nNo, I never meant to cause you any harm\\nIt's you and all your false alarms\\nYou and all your false alarms\\nYou and all your false\\n\\n[Chorus 3]\\nYou, yes, you've\\nYou've been breaking every inch of my heart\\nAnd, no, I never meant to cause you any harm\\nIt's you and all your false alarms\\nYou and all your false alarms [x2]Embed\"\n",
      "\n",
      "\n",
      "\"1 ContributorBreathe Anymore Lyrics[Hook 1]\\n'cause I got a hole deep down in my soul\\nAnd I don't wanna let nobody know\\nSo I'll just bury myself deep inside\\n'til I can't breathe anymore\\n\\n[Verse 1]\\nI can't decide\\nIf I wanna live or if I wanna die\\nWill this pain ever subside\\nOr is this the last night of my life?\\n\\n[Hook 1]\\n\\n[Verse 2]\\nAnd this can't be true\\nNobody's ever felt like I do\\nAnd I'm so confused\\nHave I already tied my noose?\\n\\n[Hook 1]\\n\\n[Hook 2]\\nOh, well, I've got a hole deep down in my soul\\nAnd I don't wanna let nobody know\\nSo I'll just bury myself deep inside\\n'til I can't breathe anymoreSee Allen Stone LiveGet tickets as low as $54You might also likeEmbed\"\n",
      "\n",
      "\n"
     ]
    }
   ],
   "source": [
    "for i in range(58,62):\n",
    "    print(repr(df['lyrics'].iloc[i]))\n",
    "    print('\\n')"
   ]
  },
  {
   "cell_type": "code",
   "execution_count": 9,
   "id": "6d04ac32-dc49-4d4d-88bf-cee0a56d88e4",
   "metadata": {},
   "outputs": [
    {
     "name": "stdout",
     "output_type": "stream",
     "text": [
      "green and yellow purple rÐµd Building\n"
     ]
    }
   ],
   "source": [
    "print('green and yellow purple rÐµd Building')"
   ]
  },
  {
   "cell_type": "code",
   "execution_count": 10,
   "id": "fcf83b22-9714-4776-91ef-6445444560e3",
   "metadata": {
    "scrolled": true
   },
   "outputs": [
    {
     "name": "stdout",
     "output_type": "stream",
     "text": [
      "1 ContributorBreathe Anymore Lyrics[Hook 1]\n",
      "'cause I got a hole deep down in my soul\n",
      "And I don't wanna let nobody know\n",
      "So I'll just bury myself deep inside\n",
      "'til I can't breathe anymore\n",
      "\n",
      "[Verse 1]\n",
      "I can't decide\n",
      "If I wanna live or if I wanna die\n",
      "Will this pain ever subside\n",
      "Or is this the last night of my life?\n",
      "\n",
      "[Hook 1]\n",
      "\n",
      "[Verse 2]\n",
      "And this can't be true\n",
      "Nobody's ever felt like I do\n",
      "And I'm so confused\n",
      "Have I already tied my noose?\n",
      "\n",
      "[Hook 1]\n",
      "\n",
      "[Hook 2]\n",
      "Oh, well, I've got a hole deep down in my soul\n",
      "And I don't wanna let nobody know\n",
      "So I'll just bury myself deep inside\n",
      "'til I can't breathe anymoreSee Allen Stone LiveGet tickets as low as $54You might also likeEmbed\n"
     ]
    }
   ],
   "source": [
    "sample = data['lyrics'][61]\n",
    "print(sample)"
   ]
  },
  {
   "cell_type": "code",
   "execution_count": 11,
   "id": "4e8d7999-3e56-436e-a040-ad7d93152d6b",
   "metadata": {},
   "outputs": [
    {
     "data": {
      "text/plain": [
       "\"1 ContributorBreathe Anymore Lyrics[Hook 1]\\n'cause I got a hole deep down in my soul\\nAnd I don't wanna let nobody know\\nSo I'll just bury myself deep inside\\n'til I can't breathe anymore\\n\\n[Verse 1]\\nI can't decide\\nIf I wanna live or if I wanna die\\nWill this pain ever subside\\nOr is this the last night of my life?\\n\\n[Hook 1]\\n\\n[Verse 2]\\nAnd this can't be true\\nNobody's ever felt like I do\\nAnd I'm so confused\\nHave I already tied my noose?\\n\\n[Hook 1]\\n\\n[Hook 2]\\nOh, well, I've got a hole deep down in my soul\\nAnd I don't wanna let nobody know\\nSo I'll just bury myself deep inside\\n'til I can't breathe anymoreSee Allen Stone LiveGet tickets as low as $54You might also likeEmbed\""
      ]
     },
     "execution_count": 11,
     "metadata": {},
     "output_type": "execute_result"
    }
   ],
   "source": [
    "sample"
   ]
  },
  {
   "cell_type": "code",
   "execution_count": 12,
   "id": "322eecdf-48ec-4cf1-8be3-bc22e91e7420",
   "metadata": {},
   "outputs": [
    {
     "data": {
      "text/plain": [
       "'8 ContributorsUnaware Lyrics[Verse 1]\\nEvery day the deficit grows\\nYou spend more than you own\\nPapa always said to me\\n\"Keep a close eye on your authority\"\\n\\n[Chorus]\\n\\'Cause you say that you cared\\nAnd I was unaware\\nYou say that you cared\\nAnd I was unaware\\n\\n[Hook]\\nAll you do is push, pull, tear\\nWe can\\'t stretch it any farther\\nPush, pull, tear\\nWe can\\'t stretch it any farther\\n\\n[Verse 2]\\nEvery day taxes increase\\nSo is this our land or is this our lease?\\nPapa says \"Son, it\\'s the land of the free\"\\nAs he broke his back trying to make ends meet\\n\\n[Chorus]\\nYou say that you cared\\nAnd I was unaware\\nYou say that you cared\\nAnd I was unaware\\nSee Allen Stone LiveGet tickets as low as $54You might also like[Hook]\\nAll you do is push, pull, tear\\nWe can\\'t stretch it any farther\\nPush, pull, tear\\nWe can\\'t stretch it any farther\\nPush, pull, tear\\nWe can\\'t stretch it any farther\\nPush, pull, tear\\n\\n[Chorus]\\n\\'Cause you say that you cared\\nAnd I was unaware\\nYou say that you cared\\nAnd I was unaware\\n\\n[Hook]\\n\\'Cause all you do is push, pull, tear\\n\\'Cause all you do is push, pull, tear\\nPush, pull, tear\\nWe can\\'t stretch it any farther\\nPush, pull, tear\\nNo, no, we can\\'t stretch it any farther\\nPush, pull, tear\\nWe can\\'t stretch it any farther\\nWe can\\'t stretch it any farther\\nPush, pull, tear\\nWe can\\'t stretch it any farther, no, no10Embed'"
      ]
     },
     "execution_count": 12,
     "metadata": {},
     "output_type": "execute_result"
    }
   ],
   "source": [
    "sample2 = data['lyrics'][0]\n",
    "sample2"
   ]
  },
  {
   "cell_type": "code",
   "execution_count": 13,
   "id": "c46a94a5-7832-4003-9c33-6cf4b8249be9",
   "metadata": {
    "scrolled": true
   },
   "outputs": [
    {
     "data": {
      "text/plain": [
       "['Every day the deficit grows',\n",
       " 'You spend more than you own',\n",
       " 'Papa always said to me',\n",
       " '\"Keep a close eye on your authority\"',\n",
       " '',\n",
       " '[Chorus]',\n",
       " \"'Cause you say that you cared\",\n",
       " 'And I was unaware',\n",
       " 'You say that you cared',\n",
       " 'And I was unaware',\n",
       " '',\n",
       " '[Hook]',\n",
       " 'All you do is push, pull, tear',\n",
       " \"We can't stretch it any farther\",\n",
       " 'Push, pull, tear',\n",
       " \"We can't stretch it any farther\",\n",
       " '',\n",
       " '[Verse 2]',\n",
       " 'Every day taxes increase',\n",
       " 'So is this our land or is this our lease?',\n",
       " 'Papa says \"Son, it\\'s the land of the free\"',\n",
       " 'As he broke his back trying to make ends meet',\n",
       " '',\n",
       " '[Chorus]',\n",
       " 'You say that you cared',\n",
       " 'And I was unaware',\n",
       " 'You say that you cared',\n",
       " 'And I was unaware',\n",
       " 'See Allen Stone LiveGet tickets as low as $54You might also like[Hook]',\n",
       " 'All you do is push, pull, tear',\n",
       " \"We can't stretch it any farther\",\n",
       " 'Push, pull, tear',\n",
       " \"We can't stretch it any farther\",\n",
       " 'Push, pull, tear',\n",
       " \"We can't stretch it any farther\",\n",
       " 'Push, pull, tear',\n",
       " '',\n",
       " '[Chorus]',\n",
       " \"'Cause you say that you cared\",\n",
       " 'And I was unaware',\n",
       " 'You say that you cared',\n",
       " 'And I was unaware',\n",
       " '',\n",
       " '[Hook]',\n",
       " \"'Cause all you do is push, pull, tear\",\n",
       " \"'Cause all you do is push, pull, tear\",\n",
       " 'Push, pull, tear',\n",
       " \"We can't stretch it any farther\",\n",
       " 'Push, pull, tear',\n",
       " \"No, no, we can't stretch it any farther\",\n",
       " 'Push, pull, tear',\n",
       " \"We can't stretch it any farther\",\n",
       " \"We can't stretch it any farther\",\n",
       " 'Push, pull, tear',\n",
       " \"We can't stretch it any farther, no, no10Embed\"]"
      ]
     },
     "execution_count": 13,
     "metadata": {},
     "output_type": "execute_result"
    }
   ],
   "source": [
    "sample2.split('\\n')[1:] #This is fine since its commentary and not actually song lyrics..."
   ]
  },
  {
   "cell_type": "code",
   "execution_count": 71,
   "id": "c7968e11-dd44-48f8-92cd-e60c62977959",
   "metadata": {},
   "outputs": [
    {
     "data": {
      "text/plain": [
       "'why   looking out across the nighttime the city winks a sleepless eye hear her voice shake my window sweet seducing sighs get me out into the nighttime four walls wont hold me tonight if this town is just an apple then let me take a bite   if they say why why why why tell them that its human nature why why why why does he do me that way if they say why why why why tell them that its human nature why why why why does he do me that way  reaching out to touch a stranger electric eyes are everywhere see that girl she knows im watching she likes the way i stare   if they say why why why why just tell them that its human nature why why why why does he do me that way if they say why why why why shes giving in by keeping him around tell them that its human nature why why why why does he do me that way   i like livin this way i like lovin this way that way why oh why that way why oh why   looking out across the morning the citys heart begins to beat reaching out i touch her shoulder im dreaming of the street   if they say why why why why tell them that its human nature why why why why does he do me that way if they say why why why why shes giving in by keeping him around oohooh tell em why why why why does he do me that way if they say why why why why why why chadachashashashashasha aahah why why why why does he do me that way if they say why why why why why why why shes giving in by keeping him around oohooh tell em aahah why why why why does he do me that way if they say why why why why why why ooh tell em why why why why does he do me that way if they say why why why why shes giving in by keeping him around dadadadadadadada why why why why does he do me that way i like living this way  why oh why that way why oh why that way why oh why that way '"
      ]
     },
     "execution_count": 71,
     "metadata": {},
     "output_type": "execute_result"
    }
   ],
   "source": [
    "import re\n",
    "import string\n",
    "\n",
    "def clean_lyrics(lyrics):\n",
    "    #no need for unicode char\n",
    "    lyrics = lyrics.encode('ascii', 'ignore').decode()\n",
    "    \n",
    "\n",
    "    # lyrics = re.sub(r'\\u2005', ' ', lyrics)\n",
    "    lyrics = lyrics.replace('\\u2005', ' ')\n",
    "    # Some have other strange punctuations\n",
    "    lyrics = lyrics.replace('’', '')\n",
    "    lyrics = lyrics.replace('‘', '')\n",
    "\n",
    "    #differnt dashes...\n",
    "    lyrics = lyrics.replace('—', '')\n",
    "    lyrics = lyrics.replace('—', '')\n",
    "    lyrics = lyrics.replace('–', '')\n",
    "\n",
    "    # This may cuase some lyrics to be removed as well...\n",
    "    lyrics = lyrics.replace('You might also likeEmbed', ' ')\n",
    "    lyrics = lyrics.replace('You might also like', ' ')\n",
    "   \n",
    "\n",
    "    #remove verse chorsu blocks\n",
    "    pattern = r'\\[.*?(Verse|Chorus|Interlude|Outro|Refrain|Bridge|Hook).*?\\]'\n",
    "    #repetitions of vocals\n",
    "    pattern2 = r'x\\d+'\n",
    "    #ads\n",
    "    # pattern3 = r'(?<=\\w)See .*? LiveGet tickets as low as .*? might also like'\n",
    "    pattern3 = r'See .*? LiveGet tickets as low as .*? might also like'\n",
    "    \n",
    "    pattern4 = r'\\d+Embed'\n",
    "    # pattern5 = r'(?<=\\w)See .*? LiveGet tickets as low as \\d+'\n",
    "    pattern5 = r'See .*? LiveGet tickets as low as \\d+'\n",
    "    # pattern6 = r'See \\w+ LiveGet tickets as low as \\d+.'\n",
    "    \n",
    "\n",
    "    lyrics = re.sub(pattern,'',lyrics)\n",
    "    \n",
    "    #remove punctuation\n",
    "    lyrics = ''.join(s if s not in string.punctuation else '' for s in lyrics)\n",
    "    \n",
    "    lyrics = re.sub(pattern2,'',lyrics)\n",
    "    lyrics = re.sub(pattern3,' ',lyrics)\n",
    "    lyrics = re.sub(pattern4,' ',lyrics)\n",
    "    lyrics = re.sub(pattern5,' ',lyrics)\n",
    "\n",
    "    # lyrics = re.sub(pattern6,' ',lyrics)\n",
    "\n",
    "    # Have to do this after regex for non int matches\n",
    "    lyrics = lyrics.replace('Embed', ' ')\n",
    "\n",
    "    #first row is always non lyrics\n",
    "    lyrics = lyrics.split('\\n')[1:]\n",
    "\n",
    "    final_lyrics = ' '.join(lyrics)\n",
    "\n",
    "    return final_lyrics.lower()\n",
    "\n",
    "clean_lyrics(data_clean['lyrics'].iloc[0])"
   ]
  },
  {
   "cell_type": "code",
   "execution_count": 72,
   "id": "b9672fb4-c561-42a8-9434-6e59cd0e9360",
   "metadata": {},
   "outputs": [
    {
     "data": {
      "text/plain": [
       "'why   looking out across the nighttime the city winks a sleepless eye hear her voice shake my window sweet seducing sighs get me out into the nighttime four walls wont hold me tonight if this town is just an apple then let me take a bite   if they say why why why why tell them that its human nature why why why why does he do me that way if they say why why why why tell them that its human nature why why why why does he do me that way   reaching out to touch a stranger electric eyes are verywhere see that girl sh knows im watching she likes the way i stare   if they say why why why why just tell them that its human nature why why why why does he do me that way if they say why shes giving in by keeping him around why why why tell them that its human nature why why why why does he do me that way   i like livin this way i like lovin this way   that way why oh why that way why oh why   looking out across the morning the citys heart begins to beat im reaching out i touch her shoulder im dreaming of the street   if they say why why why why chadachashashashashasha why why why why does he do me that way if they say why shes giving in by keeping him around why why why oohooh tell em why why why why does he do me that way if they say why why why why why why oohooh tell em ahah why why why why does he do me that way if they say why shes giving in by keeping him around why why why why why dadadadadadadada why why why why does he do me that way i like living this way  why oh why that way why oh why that way why oh why that way '"
      ]
     },
     "execution_count": 72,
     "metadata": {},
     "output_type": "execute_result"
    }
   ],
   "source": [
    "clean_lyrics(data_clean['lyrics'].iloc[1])"
   ]
  },
  {
   "cell_type": "code",
   "execution_count": 75,
   "id": "972ce5e1-c75d-4f5f-8585-1390515bb86e",
   "metadata": {},
   "outputs": [
    {
     "data": {
      "text/plain": [
       "[False]"
      ]
     },
     "execution_count": 75,
     "metadata": {},
     "output_type": "execute_result"
    }
   ],
   "source": [
    "[clean_lyrics(data_clean['lyrics'].iloc[0]) == clean_lyrics(data_clean['lyrics'].iloc[1])]"
   ]
  },
  {
   "cell_type": "code",
   "execution_count": 15,
   "id": "4a29eec2-87f9-441d-9c87-6d6250d90a06",
   "metadata": {},
   "outputs": [
    {
     "data": {
      "text/plain": [
       "'his back trying to make ends meet         You say that you cared And I was unaware You say that you cared And I         was unaware\\nSee Allen Stone LiveGet tickets as low as $54         if this contnues?'"
      ]
     },
     "execution_count": 15,
     "metadata": {},
     "output_type": "execute_result"
    }
   ],
   "source": [
    "str1 = 'his back trying to make ends meet \\\n",
    "        You say that you cared And I was unaware You say that you cared And I \\\n",
    "        was unaware\\nSee Allen Stone LiveGet tickets as low as $54 \\\n",
    "        if this contnues?'\n",
    "# str1 = data['lyrics'][0]\n",
    "\n",
    "re.sub( r'See .*? LiveGet tickets as low as \\d+.',' HERE',str1)"
   ]
  },
  {
   "cell_type": "code",
   "execution_count": 16,
   "id": "ad4f79f1-6753-4116-8ae6-d7bc42de3825",
   "metadata": {},
   "outputs": [
    {
     "data": {
      "text/plain": [
       "'cause i got a hole deep down in my soul and i dont wanna let nobody know so ill just bury myself deep inside til i cant breathe anymore   i cant decide if i wanna live or if i wanna die will this pain ever subside or is this the last night of my life     and this cant be true nobodys ever felt like i do and im so confused have i already tied my noose     oh well ive got a hole deep down in my soul and i dont wanna let nobody know so ill just bury myself deep inside til i cant breathe anymore  '"
      ]
     },
     "execution_count": 16,
     "metadata": {},
     "output_type": "execute_result"
    }
   ],
   "source": [
    "clean_lyrics(data['lyrics'][61])"
   ]
  },
  {
   "cell_type": "code",
   "execution_count": 17,
   "id": "6c595989-7c3e-48ba-b86a-8045b0c32bec",
   "metadata": {},
   "outputs": [
    {
     "name": "stdout",
     "output_type": "stream",
     "text": [
      "well ive been looking for you all morning i aint heard a word from you yet ive been looking for you all morning youve been writing bad checks  and ive been looking for you all morning you aint ever picked up your phone ive been looking for you all morning youve been leaving me alone    you know the reason im calling you youve got to explain your rules cause people theyve been talking saying youve been running game on me too   and ive been looking for you all morning i just need a bit of your time ive been looking for you all morning ive been left behind and ive been left behind and ive been trying to call you all morning i dont know what else to do ive been trying to call you all morning but i aint getting through     cause you know the reason im calling you youve got to explain your rules cause people theyve been talking saying youve been running game on me   youve been running the game far too long and ive been so ashamed i cant go on    \n",
      "\n",
      "\n",
      "its worth it every time make sure to set aside a space inside your mind sit back enjoy the ride   dont it seem funny we work to make money then sacrifice our daily lives aint it funny oh oh oh because all we remember no dollar could measure who takes the prize when losing sight losing sight yeah   everybodys rushing by nobodys enjoying life ride around with the windows low music loud on my stereo even though the minutes roll moments never look how they sound how they sound   if we could just wait five minutes take time to make it slower it slower it slower it slower i want to just give it five minutes dont want this feeling to be over be over be over be over    slow the meter down hey hey you wont find your worth inside your bank account by the way no way you dont go to stress about ah yeah making small deposits if the check will bounce thats right oh maybe yeah yeah we should take a breather before we lose it lose it dont forget the reasons   everybodys rushing by nobodys enjoying life ride around with the windows low music loud on my stereo even though the minutes roll moments never look how they sound how they sound   if we could just wait five minutes wait five take time to make it slower it slower wait five wait five it slower it slower take it slower i want to just give it five minutes dont want this feeling to be over be over give it five give it five yeah be over be over oh i  its worth it every time aye make sure to set aside a space inside your mind give it a space sit back enjoy the ride sit back enjoy the ride   i want to just give it 5 minutes dont want this feeling to be over no no no no be over dododododo yeah   can we just wait five minutes can we just wait five minutes can we just wait five minutes can we just wait five minutes\n",
      "\n",
      "\n",
      "well i could stop the rain the rain from falling if you could stop this pain this pain that youve been causing   well ive been lonely for so long ive been waiting for you to come back home   cause you you and all your false alarms youve been breaking every inch of my heart no i never meant to cause you any harm its you and all your false alarms you and all your false alarms    and i could love you more hey more than youve ever known if you could love me full yeah hey more than just off and on   cause ive been lonely for so long and ive been waiting for for you to come back home    cause you you and all your false alarms youve been breaking every inch of my heart no i never meant to cause you any harm its you and all your false alarms you and all your false alarms you and all your false   you yes youve youve been breaking every inch of my heart and no i never meant to cause you any harm its you and all your false alarms you and all your false alarms \n",
      "\n",
      "\n",
      "cause i got a hole deep down in my soul and i dont wanna let nobody know so ill just bury myself deep inside til i cant breathe anymore   i cant decide if i wanna live or if i wanna die will this pain ever subside or is this the last night of my life     and this cant be true nobodys ever felt like i do and im so confused have i already tied my noose     oh well ive got a hole deep down in my soul and i dont wanna let nobody know so ill just bury myself deep inside til i cant breathe anymore  \n",
      "\n",
      "\n"
     ]
    }
   ],
   "source": [
    "\n",
    "for i in range(58,62):\n",
    "    isample = data['lyrics'][i]\n",
    "    # print(isample)\n",
    "    print(clean_lyrics(isample))\n",
    "    print('\\n')"
   ]
  },
  {
   "cell_type": "code",
   "execution_count": 29,
   "id": "ce15a800-74f8-46bf-9ce4-7769df80bb01",
   "metadata": {},
   "outputs": [],
   "source": [
    "import os\n",
    "\n",
    "def df_lyrics(data_dir):\n",
    "    dfs = []\n",
    "    for filename in os.listdir(data_dir):\n",
    "        filepath = os.path.join(data_dir,filename)\n",
    "        dfn = pd.read_csv(filepath)\n",
    "        dfs.append(dfn)\n",
    "    return  pd.concat(dfs, ignore_index=True)"
   ]
  },
  {
   "cell_type": "code",
   "execution_count": 40,
   "id": "b3ff58bb-d75a-46fe-baf5-cc1bd207fe47",
   "metadata": {},
   "outputs": [],
   "source": [
    "# Final Code to clean, and combine all data files into one, and save to csv\n",
    "\n",
    "def df_corpus(directory):\n",
    "    all_lyrics = df_lyrics(directory)\n",
    "    m_out = map(clean_lyrics,all_lyrics['lyrics'])\n",
    "    all_lyrics['corpus'] = list(m_out)\n",
    "\n",
    "    # clean_df = all_lyrics.dropna(subset=['corpus'])\n",
    "    all_lyrics.to_csv('./data/clean_lyrics.csv')\n",
    "\n",
    "# Run to save csv\n",
    "df_corpus('./data')"
   ]
  },
  {
   "cell_type": "code",
   "execution_count": null,
   "id": "063eb336-0b47-4e67-ac1b-5277518dab2e",
   "metadata": {},
   "outputs": [],
   "source": [
    "\n",
    "df0 = pd.read_csv('./data/clean_lyrics.csv')\n",
    "\n",
    "df0.info()"
   ]
  },
  {
   "cell_type": "code",
   "execution_count": 32,
   "id": "d0cc489e-1b00-45be-ac02-4d090feb76aa",
   "metadata": {},
   "outputs": [
    {
     "data": {
      "text/plain": [
       "Unnamed: 0                           0\n",
       "id                                   0\n",
       "artist                               0\n",
       "title                                0\n",
       "lyrics                               0\n",
       "annotation_count                     0\n",
       "api_path                             0\n",
       "full_title                           0\n",
       "header_image_thumbnail_url           0\n",
       "header_image_url                     0\n",
       "lyrics_owner_id                      0\n",
       "lyrics_state                         0\n",
       "path                                 0\n",
       "pyongs_count                      1386\n",
       "song_art_image_thumbnail_url         0\n",
       "song_art_image_url                   0\n",
       "title_with_featured                  0\n",
       "url                                  0\n",
       "album_api_path                     311\n",
       "album_cover_art_url                311\n",
       "album_full_title                   311\n",
       "album_id                           311\n",
       "album_name                         311\n",
       "album_release_date_for_display     316\n",
       "album_url                          311\n",
       "corpus                              16\n",
       "dtype: int64"
      ]
     },
     "execution_count": 32,
     "metadata": {},
     "output_type": "execute_result"
    }
   ],
   "source": [
    "df0.isnull().sum()"
   ]
  },
  {
   "cell_type": "code",
   "execution_count": 33,
   "id": "933f8de0-9757-42b4-bce5-223508e5a302",
   "metadata": {},
   "outputs": [],
   "source": [
    "dft = df0.dropna(subset=['corpus'],ignore_index=True)"
   ]
  },
  {
   "cell_type": "code",
   "execution_count": 34,
   "id": "c8dba0b6-d483-4ba8-8a46-792a4097b7c1",
   "metadata": {},
   "outputs": [
    {
     "name": "stdout",
     "output_type": "stream",
     "text": [
      "<class 'pandas.core.frame.DataFrame'>\n",
      "RangeIndex: 1863 entries, 0 to 1862\n",
      "Data columns (total 26 columns):\n",
      " #   Column                          Non-Null Count  Dtype  \n",
      "---  ------                          --------------  -----  \n",
      " 0   Unnamed: 0                      1863 non-null   int64  \n",
      " 1   id                              1863 non-null   int64  \n",
      " 2   artist                          1863 non-null   object \n",
      " 3   title                           1863 non-null   object \n",
      " 4   lyrics                          1863 non-null   object \n",
      " 5   annotation_count                1863 non-null   int64  \n",
      " 6   api_path                        1863 non-null   object \n",
      " 7   full_title                      1863 non-null   object \n",
      " 8   header_image_thumbnail_url      1863 non-null   object \n",
      " 9   header_image_url                1863 non-null   object \n",
      " 10  lyrics_owner_id                 1863 non-null   int64  \n",
      " 11  lyrics_state                    1863 non-null   object \n",
      " 12  path                            1863 non-null   object \n",
      " 13  pyongs_count                    491 non-null    float64\n",
      " 14  song_art_image_thumbnail_url    1863 non-null   object \n",
      " 15  song_art_image_url              1863 non-null   object \n",
      " 16  title_with_featured             1863 non-null   object \n",
      " 17  url                             1863 non-null   object \n",
      " 18  album_api_path                  1555 non-null   object \n",
      " 19  album_cover_art_url             1555 non-null   object \n",
      " 20  album_full_title                1555 non-null   object \n",
      " 21  album_id                        1555 non-null   float64\n",
      " 22  album_name                      1555 non-null   object \n",
      " 23  album_release_date_for_display  1550 non-null   object \n",
      " 24  album_url                       1555 non-null   object \n",
      " 25  corpus                          1863 non-null   object \n",
      "dtypes: float64(2), int64(4), object(20)\n",
      "memory usage: 378.5+ KB\n"
     ]
    }
   ],
   "source": [
    "dft.info()"
   ]
  },
  {
   "cell_type": "code",
   "execution_count": null,
   "id": "a2ff2610-e721-4361-a2c7-bddac8833acc",
   "metadata": {},
   "outputs": [],
   "source": []
  }
 ],
 "metadata": {
  "kernelspec": {
   "display_name": "Python 3 (ipykernel)",
   "language": "python",
   "name": "python3"
  },
  "language_info": {
   "codemirror_mode": {
    "name": "ipython",
    "version": 3
   },
   "file_extension": ".py",
   "mimetype": "text/x-python",
   "name": "python",
   "nbconvert_exporter": "python",
   "pygments_lexer": "ipython3",
   "version": "3.9.19"
  }
 },
 "nbformat": 4,
 "nbformat_minor": 5
}
